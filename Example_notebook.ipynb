{
 "cells": [
  {
   "cell_type": "code",
   "execution_count": 1,
   "metadata": {},
   "outputs": [],
   "source": [
    "from dvrprl.networks import ParallelMultilayerPerceptron, Transformer, RecurrentNeuralNetwork\n",
    "from dvrprl.ppo import PPOAgent\n",
    "from dvrprl.tsp_env import TSPEnv\n",
    "from dvrprl.dqn import DQNAgent"
   ]
  },
  {
   "cell_type": "code",
   "execution_count": 2,
   "metadata": {},
   "outputs": [],
   "source": [
    "# Define Environment\n",
    "\n",
    "env = TSPEnv(num_nodes=20)\n",
    "\n",
    "# Define the networks\n",
    "value_network = ParallelMultilayerPerceptron(in_features=4, embedding_dim=128, hidden_layers=[128, 128], mode=\"action-value\")\n",
    "\n",
    "# Define the agent\n",
    "\n",
    "agent = DQNAgent(replay_memory_size=10000, value_network=value_network, seed=42)\n",
    "\n",
    "# Give name of folder to save the results, change this each time of results will be overwritten\n",
    "\n",
    "logdir = \"logs/dqn-pmlp-24-07-23\""
   ]
  },
  {
   "cell_type": "code",
   "execution_count": 3,
   "metadata": {},
   "outputs": [
    {
     "name": "stderr",
     "output_type": "stream",
     "text": [
      " 19%|#9        | 19/100 [00:00<00:01, 60.26episode/s]/home/trainer1/dvrprl/dvrprl/dqn.py:196: UserWarning: To copy construct from a tensor, it is recommended to use sourceTensor.clone().detach() or sourceTensor.clone().detach().requires_grad_(True), rather than torch.tensor(sourceTensor).\n",
      "  X = torch.tensor(X).unsqueeze(0)\n",
      "/home/trainer1/dvrprl/dvrprl/dqn.py:197: UserWarning: To copy construct from a tensor, it is recommended to use sourceTensor.clone().detach() or sourceTensor.clone().detach().requires_grad_(True), rather than torch.tensor(sourceTensor).\n",
      "  y = torch.tensor(y).unsqueeze(0)\n",
      " 29%|##9       | 29/100 [03:49<09:22,  7.92s/episode]\n"
     ]
    },
    {
     "ename": "KeyboardInterrupt",
     "evalue": "",
     "output_type": "error",
     "traceback": [
      "\u001b[0;31m---------------------------------------------------------------------------\u001b[0m",
      "\u001b[0;31mKeyboardInterrupt\u001b[0m                         Traceback (most recent call last)",
      "Cell \u001b[0;32mIn[3], line 1\u001b[0m\n\u001b[0;32m----> 1\u001b[0m agent\u001b[39m.\u001b[39;49mtrain(env, episodes\u001b[39m=\u001b[39;49m\u001b[39m100\u001b[39;49m, batch_size\u001b[39m=\u001b[39;49m\u001b[39m32\u001b[39;49m, logdir\u001b[39m=\u001b[39;49mlogdir)\n",
      "File \u001b[0;32m~/dvrprl/dvrprl/dqn.py:119\u001b[0m, in \u001b[0;36mDQNAgent.train\u001b[0;34m(self, env, episodes, min_replay_memory_size, update_target_every, batch_size, discount, epsilon, epsilon_decay, epsilon_min, learning_rate, logdir, save_freq)\u001b[0m\n\u001b[1;32m    116\u001b[0m     \u001b[39m# Update replay memory\u001b[39;00m\n\u001b[1;32m    117\u001b[0m     loss \u001b[39m=\u001b[39m \u001b[39mself\u001b[39m\u001b[39m.\u001b[39mupdate_replay_memory((current_state, action, reward, next_state, done))\n\u001b[0;32m--> 119\u001b[0m     \u001b[39mself\u001b[39;49m\u001b[39m.\u001b[39;49mupdate_networks(min_replay_memory_size\u001b[39m=\u001b[39;49mmin_replay_memory_size, update_target_every\u001b[39m=\u001b[39;49mupdate_target_every, batch_size\u001b[39m=\u001b[39;49mbatch_size, discount\u001b[39m=\u001b[39;49mdiscount, learning_rate\u001b[39m=\u001b[39;49mlearning_rate)\n\u001b[1;32m    121\u001b[0m     current_state \u001b[39m=\u001b[39m next_state\n\u001b[1;32m    123\u001b[0m \u001b[39m# Update target network counter every episode\u001b[39;00m\n",
      "File \u001b[0;32m~/dvrprl/dvrprl/dqn.py:200\u001b[0m, in \u001b[0;36mDQNAgent.update_networks\u001b[0;34m(self, min_replay_memory_size, batch_size, discount, update_target_every, learning_rate)\u001b[0m\n\u001b[1;32m    198\u001b[0m     y_pred \u001b[39m=\u001b[39m \u001b[39mself\u001b[39m\u001b[39m.\u001b[39mmodel(X)\n\u001b[1;32m    199\u001b[0m     loss \u001b[39m=\u001b[39m loss_fn(y_pred, y)\n\u001b[0;32m--> 200\u001b[0m     loss\u001b[39m.\u001b[39;49mbackward()\n\u001b[1;32m    201\u001b[0m     optimizer\u001b[39m.\u001b[39mstep()\n\u001b[1;32m    203\u001b[0m \u001b[39m# If counter reaches set value, update target network with weights of main network\u001b[39;00m\n",
      "File \u001b[0;32m~/dvrprl/.venv/lib/python3.9/site-packages/torch/_tensor.py:487\u001b[0m, in \u001b[0;36mTensor.backward\u001b[0;34m(self, gradient, retain_graph, create_graph, inputs)\u001b[0m\n\u001b[1;32m    477\u001b[0m \u001b[39mif\u001b[39;00m has_torch_function_unary(\u001b[39mself\u001b[39m):\n\u001b[1;32m    478\u001b[0m     \u001b[39mreturn\u001b[39;00m handle_torch_function(\n\u001b[1;32m    479\u001b[0m         Tensor\u001b[39m.\u001b[39mbackward,\n\u001b[1;32m    480\u001b[0m         (\u001b[39mself\u001b[39m,),\n\u001b[0;32m   (...)\u001b[0m\n\u001b[1;32m    485\u001b[0m         inputs\u001b[39m=\u001b[39minputs,\n\u001b[1;32m    486\u001b[0m     )\n\u001b[0;32m--> 487\u001b[0m torch\u001b[39m.\u001b[39;49mautograd\u001b[39m.\u001b[39;49mbackward(\n\u001b[1;32m    488\u001b[0m     \u001b[39mself\u001b[39;49m, gradient, retain_graph, create_graph, inputs\u001b[39m=\u001b[39;49minputs\n\u001b[1;32m    489\u001b[0m )\n",
      "File \u001b[0;32m~/dvrprl/.venv/lib/python3.9/site-packages/torch/autograd/__init__.py:200\u001b[0m, in \u001b[0;36mbackward\u001b[0;34m(tensors, grad_tensors, retain_graph, create_graph, grad_variables, inputs)\u001b[0m\n\u001b[1;32m    195\u001b[0m     retain_graph \u001b[39m=\u001b[39m create_graph\n\u001b[1;32m    197\u001b[0m \u001b[39m# The reason we repeat same the comment below is that\u001b[39;00m\n\u001b[1;32m    198\u001b[0m \u001b[39m# some Python versions print out the first line of a multi-line function\u001b[39;00m\n\u001b[1;32m    199\u001b[0m \u001b[39m# calls in the traceback and some print out the last line\u001b[39;00m\n\u001b[0;32m--> 200\u001b[0m Variable\u001b[39m.\u001b[39;49m_execution_engine\u001b[39m.\u001b[39;49mrun_backward(  \u001b[39m# Calls into the C++ engine to run the backward pass\u001b[39;49;00m\n\u001b[1;32m    201\u001b[0m     tensors, grad_tensors_, retain_graph, create_graph, inputs,\n\u001b[1;32m    202\u001b[0m     allow_unreachable\u001b[39m=\u001b[39;49m\u001b[39mTrue\u001b[39;49;00m, accumulate_grad\u001b[39m=\u001b[39;49m\u001b[39mTrue\u001b[39;49;00m)\n",
      "\u001b[0;31mKeyboardInterrupt\u001b[0m: "
     ]
    }
   ],
   "source": [
    "agent.train(env, episodes=100, batch_size=32, logdir=logdir)"
   ]
  }
 ],
 "metadata": {
  "kernelspec": {
   "display_name": ".venv",
   "language": "python",
   "name": "python3"
  },
  "language_info": {
   "codemirror_mode": {
    "name": "ipython",
    "version": 3
   },
   "file_extension": ".py",
   "mimetype": "text/x-python",
   "name": "python",
   "nbconvert_exporter": "python",
   "pygments_lexer": "ipython3",
   "version": "3.9.16"
  },
  "orig_nbformat": 4
 },
 "nbformat": 4,
 "nbformat_minor": 2
}
